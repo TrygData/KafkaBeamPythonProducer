{
 "cells": [
  {
   "cell_type": "code",
   "execution_count": 26,
   "metadata": {
    "collapsed": false
   },
   "outputs": [],
   "source": [
    "import random\n",
    "import calendar\n",
    "import time\n",
    "import math\n",
    "import numpy as np\n",
    "\n",
    "origintime=0\n",
    "max_policies=10\n",
    "max_policy_changes=3\n",
    "#max_policy_length=365*24*3600\n",
    "max_policy_length=3600\n",
    "policy_vars=[3,8]\n",
    "#policy_m_init=11\n",
    "#policy_sd_init=4.2\n",
    "policy_m_init=4\n",
    "policy_sd_init=1.5\n",
    "\n",
    "\n",
    "baseclaimrate=1.2\n",
    "claim_rates=[0.1,0.2]\n",
    "claim_report_m=11\n",
    "claim_report_sd=3\n",
    "claim_payment_rate=1.3\n",
    "\n",
    "payment_m=9\n",
    "payment_sd=4\n",
    "payment_time_delay_m=3\n",
    "payment_time_delay_sd=1.5\n",
    "\n",
    "\n",
    "max_claims=1\n",
    "max_periods=3\n",
    "max_class=3\n",
    "max_customer_changes=2\n",
    "\n",
    "#All timelines are calendar\n",
    "#Sendingtimes are random, but after origintime\n",
    "\n",
    "class Sample:\n",
    "    def __init__(self,polnr):\n",
    "        self.policies(polnr)\n",
    "        self.customers()\n",
    "        self.claims()\n",
    "        self.combine()\n",
    "        \n",
    "    def customers(self):\n",
    "        times=[p[\"policystarttime\"] for p in self.policy]\n",
    "        self.customer=[]\n",
    "        self.customer.append({\"customer\":\"cust\"+str(self.policy[0][\"policy\"]),\"customertime\":self.policy[0][\"policystarttime\"],\"address\":\"Here\"})\n",
    "        r=random.sample(times,1)[0]\n",
    "        if r!=times[0]:\n",
    "             self.customer.append({\"customer\":\"cust\"+str(self.policy[0][\"policy\"]),\"customertime\":r,\"address\":\"There\"})\n",
    "        \n",
    "    def policies(self,polnr):\n",
    "        #Only one policy is made\n",
    "        self.policy=[]\n",
    "        policynr=random.randint(1,max_policies)\n",
    "        if polnr>0:\n",
    "            policynr=polnr\n",
    "        lasttime=origintime+random.lognormvariate(policy_m_init,policy_sd_init)\n",
    "        for _ in range(random.randint(1,max_policy_changes)):\n",
    "            newtime=random.uniform(lasttime,lasttime+max_policy_length)\n",
    "            newpolicy={\"policy\":policynr,\"policystarttime\":lasttime,\"policyendtime\":newtime}\n",
    "            lasttime=newtime\n",
    "            ci=0\n",
    "            for i in policy_vars:\n",
    "                newpolicy[str(\"pvar\"+str(ci))]=random.sample(set(range(i)),1)[0]\n",
    "                ci=ci+1\n",
    "            self.policy.append(newpolicy)\n",
    "\n",
    "    def claims(self):\n",
    "        self.claim=[]\n",
    "        self.claimpayment=[]\n",
    "        times=[p[\"policystarttime\"] for p in self.policy]\n",
    "        claimpayment=[]\n",
    "        claimcount=0\n",
    "        for ci in range(len(self.policy)):\n",
    "            rate=baseclaimrate\n",
    "            for i in range(len(policy_vars)):\n",
    "                rate=rate+claim_rates[i]*self.policy[ci][str(\"pvar\"+str(i))]\n",
    "            mu=rate*(float(self.policy[ci][\"policyendtime\"])-float(self.policy[ci][\"policystarttime\"]))\n",
    "            mu=mu/max_policy_length\n",
    "            claimcounts=math.floor(random.expovariate(1/mu))\n",
    "            lastclaimtime=self.policy[ci][\"policystarttime\"]\n",
    "            for c in range(claimcounts):\n",
    "                claimtime=random.uniform(lastclaimtime,self.policy[ci][\"policyendtime\"])\n",
    "                claimreporttime=claimtime+random.lognormvariate(claim_report_m,claim_report_sd)\n",
    "                lastclaimtime=claimtime\n",
    "                claimnumber=str(self.policy[0][\"policy\"])+\"_\"+str(claimcount)\n",
    "                self.claim.append({\"claimnumber\":claimnumber,\"claimtime\":claimtime,\"claimreporttime\":claimreporttime,\"claimcounter\":claimcount})\n",
    "                claimcount=claimcount+1\n",
    "                mupayments=claim_payment_rate\n",
    "                countpayments=math.floor(random.expovariate(1/mupayments))\n",
    "                #print(\"countpayments is \"+str(countpayments))\n",
    "                lastpaytime=self.claim[c][\"claimreporttime\"]\n",
    "                for pay in range(countpayments):\n",
    "                    amount=random.lognormvariate(payment_m,payment_sd)\n",
    "                    paytime=lastpaytime+random.lognormvariate(payment_time_delay_m,payment_time_delay_sd)\n",
    "                    lastpaytime=paytime\n",
    "                    self.claimpayment.append({\"claimnumber\":self.claim[c][\"claimnumber\"],\"claimcounter\":self.claim[c][\"claimcounter\"],\"paytime\":paytime,\"payment\":amount})\n",
    "\n",
    "    def combine(self):\n",
    "        self.data={\"customer\":self.customer,\"policy\":self.policy,\"claim\":self.claim,\"payment\":self.claimpayment}\n",
    "\n",
    "    def reportdata(self,a):\n",
    "        #create random delays for all stuff, then combine\n",
    "        if isinstance(a,dict):\n",
    "            for k in a.keys():\n",
    "                print(k)\n",
    "\n",
    "    def recordsinint(self,fra,til):\n",
    "        newcustomer=[c for c in self.customer if c[\"customertime\"]<til and c[\"customertime\"]>=fra]\n",
    "        newpolicy=[c for c in self.policy if c[\"policystarttime\"]<til and c[\"policystarttime\"]>=fra]\n",
    "        newclaim=[c for c in self.claim if c[\"claimreporttime\"]<til and c[\"claimreporttime\"]>=fra]\n",
    "        newclaimpayment=[c for c in self.claimpayment if c[\"paytime\"]<til and c[\"paytime\"]>=fra]\n",
    "        self.newdata={\"customer\":newcustomer,\"policy\":newpolicy,\"claim\":newclaim,\"payment\":newclaimpayment}\n",
    "        \n",
    "    def print(self):\n",
    "        #print(self.customer)\n",
    "        #print(\"\\n\")\n",
    "        #print(self.policy)\n",
    "        #print(\"\\n\")\n",
    "        #print(self.claim)\n",
    "        #print(\"\\n\")\n",
    "        #print(self.claimpayment)\n",
    "        print(self.data)\n",
    "        \n",
    "\n"
   ]
  },
  {
   "cell_type": "code",
   "execution_count": null,
   "metadata": {
    "collapsed": false
   },
   "outputs": [],
   "source": [
    "!pip install kafka-python"
   ]
  },
  {
   "cell_type": "code",
   "execution_count": 27,
   "metadata": {
    "collapsed": false
   },
   "outputs": [],
   "source": [
    "s=Sample(0)\n",
    "data_customer=s.customer\n",
    "data_policy=s.policy\n",
    "data_claim=s.claim\n",
    "data_claimpayment=s.claimpayment\n",
    "\n",
    "for i in range(10):\n",
    "    s=Sample(i+1)\n",
    "    data_customer.extend(s.customer)\n",
    "    data_policy.extend(s.policy)\n",
    "    data_claim.extend(s.claim)\n",
    "    data_claimpayment.extend(s.claimpayment)\n",
    "    "
   ]
  },
  {
   "cell_type": "code",
   "execution_count": null,
   "metadata": {
    "collapsed": true
   },
   "outputs": [],
   "source": [
    "data=[Sample(i) for i in range(100)]\n",
    "data_customer=[d.customer for d in data]\n",
    "data_policy=[d.policy for d in data]\n",
    "data_claim=[d.claim for d in data]\n",
    "data_claimpayment=[d.claimpayment for d in data]\n",
    "\n"
   ]
  },
  {
   "cell_type": "code",
   "execution_count": 33,
   "metadata": {
    "collapsed": false
   },
   "outputs": [
    {
     "name": "stdout",
     "output_type": "stream",
     "text": [
      "{'address': 'Here', 'customer': 'cust2', 'customertime': 209.3058618031297}\n",
      "{'address': 'There', 'customer': 'cust2', 'customertime': 1675.1796612706603}\n",
      "{'address': 'Here', 'customer': 'cust1', 'customertime': 39.91089678039432}\n",
      "{'address': 'There', 'customer': 'cust1', 'customertime': 2619.3868565191538}\n",
      "{'address': 'Here', 'customer': 'cust2', 'customertime': 83.59820044218392}\n",
      "{'address': 'Here', 'customer': 'cust3', 'customertime': 30.494245190355837}\n",
      "{'address': 'There', 'customer': 'cust3', 'customertime': 840.4890973589163}\n",
      "{'address': 'Here', 'customer': 'cust4', 'customertime': 806.4371306778477}\n",
      "{'address': 'Here', 'customer': 'cust5', 'customertime': 149.79399605119997}\n",
      "{'address': 'There', 'customer': 'cust5', 'customertime': 1851.924735134434}\n",
      "{'address': 'Here', 'customer': 'cust6', 'customertime': 231.61137847840644}\n",
      "{'address': 'There', 'customer': 'cust6', 'customertime': 3777.033638389481}\n",
      "{'address': 'Here', 'customer': 'cust7', 'customertime': 483.79650918011544}\n",
      "{'address': 'Here', 'customer': 'cust8', 'customertime': 29.247864567056666}\n",
      "{'address': 'There', 'customer': 'cust8', 'customertime': 1105.332351774873}\n",
      "{'address': 'Here', 'customer': 'cust9', 'customertime': 809.072649649112}\n",
      "{'address': 'Here', 'customer': 'cust10', 'customertime': 25.042232335398783}\n",
      "{'address': 'There', 'customer': 'cust10', 'customertime': 264.4137019422096}\n"
     ]
    }
   ],
   "source": [
    "for d in data_customer:\n",
    "    print(d)"
   ]
  },
  {
   "cell_type": "code",
   "execution_count": 34,
   "metadata": {
    "collapsed": false
   },
   "outputs": [],
   "source": [
    "from kafka import KafkaProducer\n",
    "from kafka.errors import KafkaError\n",
    "import json\n",
    "\n"
   ]
  },
  {
   "cell_type": "code",
   "execution_count": 36,
   "metadata": {
    "collapsed": true
   },
   "outputs": [],
   "source": [
    "producer = KafkaProducer(value_serializer=lambda m: json.dumps(m).encode('ascii'),bootstrap_servers=['10.101.12.4:9092'])\n",
    "\n",
    "for d in data_customer:\n",
    "    producer.send('customer', d)\n",
    "\n",
    "for d in data_policy:\n",
    "    producer.send('policy', d)\n",
    "\n",
    "for d in data_claim:\n",
    "    producer.send('claim', d)\n",
    "\n",
    "for d in data_claimpayment:\n",
    "    producer.send('claimpayment', d)\n",
    "\n",
    "producer.flush()"
   ]
  },
  {
   "cell_type": "code",
   "execution_count": 35,
   "metadata": {
    "collapsed": false
   },
   "outputs": [
    {
     "name": "stdout",
     "output_type": "stream",
     "text": [
      "ConsumerRecord(topic='pertest', partition=0, offset=0, timestamp=1507844981560, timestamp_type=0, key=None, value=b'{\"key\": \"value\"}', checksum=-580452069, serialized_key_size=-1, serialized_value_size=16)\n",
      "ConsumerRecord(topic='pertest', partition=0, offset=1, timestamp=1507845186816, timestamp_type=0, key=None, value=b'{\"key\": \"value\"}', checksum=449493981, serialized_key_size=-1, serialized_value_size=16)\n",
      "ConsumerRecord(topic='pertest', partition=0, offset=2, timestamp=1507845190698, timestamp_type=0, key=None, value=b'{\"key\": \"value\"}', checksum=1539751172, serialized_key_size=-1, serialized_value_size=16)\n",
      "ConsumerRecord(topic='pertest', partition=0, offset=3, timestamp=1507845869436, timestamp_type=0, key=None, value=b'{\"address\": \"Here\", \"customer\": \"cust2\", \"customertime\": 209.3058618031297}', checksum=148163309, serialized_key_size=-1, serialized_value_size=75)\n",
      "ConsumerRecord(topic='pertest', partition=0, offset=4, timestamp=1507845869437, timestamp_type=0, key=None, value=b'{\"address\": \"Here\", \"customer\": \"cust1\", \"customertime\": 39.91089678039432}', checksum=-37222336, serialized_key_size=-1, serialized_value_size=75)\n",
      "ConsumerRecord(topic='pertest', partition=0, offset=5, timestamp=1507845869437, timestamp_type=0, key=None, value=b'{\"address\": \"Here\", \"customer\": \"cust4\", \"customertime\": 806.4371306778477}', checksum=-2112745657, serialized_key_size=-1, serialized_value_size=75)\n",
      "ConsumerRecord(topic='pertest', partition=0, offset=6, timestamp=1507845869438, timestamp_type=0, key=None, value=b'{\"address\": \"There\", \"customer\": \"cust5\", \"customertime\": 1851.924735134434}', checksum=-1752221611, serialized_key_size=-1, serialized_value_size=76)\n",
      "ConsumerRecord(topic='pertest', partition=0, offset=7, timestamp=1507845869438, timestamp_type=0, key=None, value=b'{\"address\": \"There\", \"customer\": \"cust6\", \"customertime\": 3777.033638389481}', checksum=-1991408927, serialized_key_size=-1, serialized_value_size=76)\n",
      "ConsumerRecord(topic='pertest', partition=0, offset=8, timestamp=1507845869438, timestamp_type=0, key=None, value=b'{\"address\": \"Here\", \"customer\": \"cust7\", \"customertime\": 483.79650918011544}', checksum=-1771267532, serialized_key_size=-1, serialized_value_size=76)\n",
      "ConsumerRecord(topic='pertest', partition=0, offset=9, timestamp=1507845869438, timestamp_type=0, key=None, value=b'{\"address\": \"Here\", \"customer\": \"cust9\", \"customertime\": 809.072649649112}', checksum=130150020, serialized_key_size=-1, serialized_value_size=74)\n",
      "ConsumerRecord(topic='pertest', partition=0, offset=10, timestamp=1507845869439, timestamp_type=0, key=None, value=b'{\"address\": \"There\", \"customer\": \"cust10\", \"customertime\": 264.4137019422096}', checksum=-64835628, serialized_key_size=-1, serialized_value_size=77)\n",
      "ConsumerRecord(topic='pertest', partition=0, offset=11, timestamp=1507845869439, timestamp_type=0, key=None, value=b'{\"pvar1\": 4, \"policyendtime\": 1675.1796612706603, \"policy\": 2, \"policystarttime\": 209.3058618031297, \"pvar0\": 2}', checksum=1530025768, serialized_key_size=-1, serialized_value_size=112)\n",
      "ConsumerRecord(topic='pertest', partition=0, offset=12, timestamp=1507845869439, timestamp_type=0, key=None, value=b'{\"pvar1\": 2, \"policyendtime\": 4224.872177363388, \"policy\": 1, \"policystarttime\": 2619.3868565191538, \"pvar0\": 0}', checksum=1564542949, serialized_key_size=-1, serialized_value_size=112)\n",
      "ConsumerRecord(topic='pertest', partition=0, offset=13, timestamp=1507845869440, timestamp_type=0, key=None, value=b'{\"pvar1\": 7, \"policyendtime\": 2624.4487116638393, \"policy\": 3, \"policystarttime\": 840.4890973589163, \"pvar0\": 1}', checksum=-1753367078, serialized_key_size=-1, serialized_value_size=112)\n",
      "ConsumerRecord(topic='pertest', partition=0, offset=14, timestamp=1507845869440, timestamp_type=0, key=None, value=b'{\"pvar1\": 6, \"policyendtime\": 3689.1576115175376, \"policy\": 4, \"policystarttime\": 806.4371306778477, \"pvar0\": 0}', checksum=-1050568165, serialized_key_size=-1, serialized_value_size=112)\n",
      "ConsumerRecord(topic='pertest', partition=0, offset=15, timestamp=1507845869440, timestamp_type=0, key=None, value=b'{\"pvar1\": 6, \"policyendtime\": 1851.924735134434, \"policy\": 5, \"policystarttime\": 149.79399605119997, \"pvar0\": 2}', checksum=1661410998, serialized_key_size=-1, serialized_value_size=112)\n",
      "ConsumerRecord(topic='pertest', partition=0, offset=16, timestamp=1507845869440, timestamp_type=0, key=None, value=b'{\"pvar1\": 5, \"policyendtime\": 3777.033638389481, \"policy\": 6, \"policystarttime\": 231.61137847840644, \"pvar0\": 1}', checksum=424378934, serialized_key_size=-1, serialized_value_size=112)\n",
      "ConsumerRecord(topic='pertest', partition=0, offset=17, timestamp=1507845869440, timestamp_type=0, key=None, value=b'{\"pvar1\": 0, \"policyendtime\": 6397.266707830977, \"policy\": 6, \"policystarttime\": 3777.033638389481, \"pvar0\": 1}', checksum=1833082757, serialized_key_size=-1, serialized_value_size=111)\n",
      "ConsumerRecord(topic='pertest', partition=0, offset=18, timestamp=1507845869441, timestamp_type=0, key=None, value=b'{\"pvar1\": 3, \"policyendtime\": 1105.332351774873, \"policy\": 8, \"policystarttime\": 29.247864567056666, \"pvar0\": 0}', checksum=-438576406, serialized_key_size=-1, serialized_value_size=112)\n",
      "ConsumerRecord(topic='pertest', partition=0, offset=19, timestamp=1507845869441, timestamp_type=0, key=None, value=b'{\"pvar1\": 2, \"policyendtime\": 3519.071122959743, \"policy\": 9, \"policystarttime\": 1459.6275051497728, \"pvar0\": 2}', checksum=1467594965, serialized_key_size=-1, serialized_value_size=112)\n",
      "ConsumerRecord(topic='pertest', partition=0, offset=20, timestamp=1507845869441, timestamp_type=0, key=None, value=b'{\"pvar1\": 4, \"policyendtime\": 1676.4424857474598, \"policy\": 10, \"policystarttime\": 264.4137019422096, \"pvar0\": 2}', checksum=520009840, serialized_key_size=-1, serialized_value_size=113)\n",
      "ConsumerRecord(topic='pertest', partition=0, offset=21, timestamp=1507845869441, timestamp_type=0, key=None, value=b'{\"pvar1\": 2, \"policyendtime\": 4358.916788511153, \"policy\": 10, \"policystarttime\": 1676.4424857474598, \"pvar0\": 0}', checksum=856557222, serialized_key_size=-1, serialized_value_size=113)\n",
      "ConsumerRecord(topic='pertest', partition=2, offset=0, timestamp=1507845175603, timestamp_type=0, key=None, value=b'{\"key\": \"value\"}', checksum=-2064766206, serialized_key_size=-1, serialized_value_size=16)\n",
      "ConsumerRecord(topic='pertest', partition=2, offset=1, timestamp=1507845208263, timestamp_type=0, key=None, value=b'{\"key\": \"value\"}', checksum=884329617, serialized_key_size=-1, serialized_value_size=16)\n",
      "ConsumerRecord(topic='pertest', partition=2, offset=2, timestamp=1507845869437, timestamp_type=0, key=None, value=b'{\"address\": \"There\", \"customer\": \"cust2\", \"customertime\": 1675.1796612706603}', checksum=1257149922, serialized_key_size=-1, serialized_value_size=77)\n",
      "ConsumerRecord(topic='pertest', partition=2, offset=3, timestamp=1507845869437, timestamp_type=0, key=None, value=b'{\"address\": \"Here\", \"customer\": \"cust3\", \"customertime\": 30.494245190355837}', checksum=-1451871020, serialized_key_size=-1, serialized_value_size=76)\n",
      "ConsumerRecord(topic='pertest', partition=2, offset=4, timestamp=1507845869438, timestamp_type=0, key=None, value=b'{\"address\": \"Here\", \"customer\": \"cust6\", \"customertime\": 231.61137847840644}', checksum=1837592469, serialized_key_size=-1, serialized_value_size=76)\n",
      "ConsumerRecord(topic='pertest', partition=2, offset=5, timestamp=1507845869438, timestamp_type=0, key=None, value=b'{\"address\": \"There\", \"customer\": \"cust8\", \"customertime\": 1105.332351774873}', checksum=711868237, serialized_key_size=-1, serialized_value_size=76)\n",
      "ConsumerRecord(topic='pertest', partition=2, offset=6, timestamp=1507845869438, timestamp_type=0, key=None, value=b'{\"address\": \"Here\", \"customer\": \"cust10\", \"customertime\": 25.042232335398783}', checksum=-1232515277, serialized_key_size=-1, serialized_value_size=77)\n",
      "ConsumerRecord(topic='pertest', partition=2, offset=7, timestamp=1507845869440, timestamp_type=0, key=None, value=b'{\"pvar1\": 1, \"policyendtime\": 997.689727934423, \"policy\": 2, \"policystarttime\": 83.59820044218392, \"pvar0\": 2}', checksum=-1338546833, serialized_key_size=-1, serialized_value_size=110)\n",
      "ConsumerRecord(topic='pertest', partition=2, offset=8, timestamp=1507845869440, timestamp_type=0, key=None, value=b'{\"pvar1\": 4, \"policyendtime\": 840.4890973589163, \"policy\": 3, \"policystarttime\": 30.494245190355837, \"pvar0\": 0}', checksum=-1504263401, serialized_key_size=-1, serialized_value_size=112)\n",
      "ConsumerRecord(topic='pertest', partition=2, offset=9, timestamp=1507845869440, timestamp_type=0, key=None, value=b'{\"pvar1\": 0, \"policyendtime\": 2212.7071536176595, \"policy\": 7, \"policystarttime\": 483.79650918011544, \"pvar0\": 0}', checksum=-863261870, serialized_key_size=-1, serialized_value_size=113)\n",
      "ConsumerRecord(topic='pertest', partition=2, offset=10, timestamp=1507845869441, timestamp_type=0, key=None, value=b'{\"pvar1\": 5, \"policyendtime\": 3553.0507384586326, \"policy\": 8, \"policystarttime\": 1105.332351774873, \"pvar0\": 2}', checksum=-2007995933, serialized_key_size=-1, serialized_value_size=112)\n",
      "ConsumerRecord(topic='pertest', partition=2, offset=11, timestamp=1507845869441, timestamp_type=0, key=None, value=b'{\"pvar1\": 7, \"policyendtime\": 264.4137019422096, \"policy\": 10, \"policystarttime\": 25.042232335398783, \"pvar0\": 0}', checksum=1761483721, serialized_key_size=-1, serialized_value_size=113)\n",
      "ConsumerRecord(topic='pertest', partition=1, offset=0, timestamp=1507751605445, timestamp_type=0, key=b'hello', value=b'world', checksum=-1822829495, serialized_key_size=5, serialized_value_size=5)\n",
      "ConsumerRecord(topic='pertest', partition=1, offset=1, timestamp=1507845246388, timestamp_type=0, key=None, value=b'{\"key\": \"value\"}', checksum=-1404210516, serialized_key_size=-1, serialized_value_size=16)\n",
      "ConsumerRecord(topic='pertest', partition=1, offset=2, timestamp=1507845607557, timestamp_type=0, key=None, value=b'{\"address\": \"Here\", \"customer\": \"cust2\", \"customertime\": 209.3058618031297}', checksum=-363715307, serialized_key_size=-1, serialized_value_size=75)\n",
      "ConsumerRecord(topic='pertest', partition=1, offset=3, timestamp=1507845694519, timestamp_type=0, key=None, value=b'{\"address\": \"Here\", \"customer\": \"cust2\", \"customertime\": 209.3058618031297}', checksum=1286380912, serialized_key_size=-1, serialized_value_size=75)\n",
      "ConsumerRecord(topic='pertest', partition=1, offset=4, timestamp=1507845869437, timestamp_type=0, key=None, value=b'{\"address\": \"There\", \"customer\": \"cust1\", \"customertime\": 2619.3868565191538}', checksum=1554145746, serialized_key_size=-1, serialized_value_size=77)\n",
      "ConsumerRecord(topic='pertest', partition=1, offset=5, timestamp=1507845869437, timestamp_type=0, key=None, value=b'{\"address\": \"Here\", \"customer\": \"cust2\", \"customertime\": 83.59820044218392}', checksum=-700093573, serialized_key_size=-1, serialized_value_size=75)\n",
      "ConsumerRecord(topic='pertest', partition=1, offset=6, timestamp=1507845869437, timestamp_type=0, key=None, value=b'{\"address\": \"There\", \"customer\": \"cust3\", \"customertime\": 840.4890973589163}', checksum=573282521, serialized_key_size=-1, serialized_value_size=76)\n",
      "ConsumerRecord(topic='pertest', partition=1, offset=7, timestamp=1507845869437, timestamp_type=0, key=None, value=b'{\"address\": \"Here\", \"customer\": \"cust5\", \"customertime\": 149.79399605119997}', checksum=-426088871, serialized_key_size=-1, serialized_value_size=76)\n",
      "ConsumerRecord(topic='pertest', partition=1, offset=8, timestamp=1507845869438, timestamp_type=0, key=None, value=b'{\"address\": \"Here\", \"customer\": \"cust8\", \"customertime\": 29.247864567056666}', checksum=-1047455298, serialized_key_size=-1, serialized_value_size=76)\n",
      "ConsumerRecord(topic='pertest', partition=1, offset=9, timestamp=1507845869439, timestamp_type=0, key=None, value=b'{\"pvar1\": 5, \"policyendtime\": 3012.2023776681976, \"policy\": 2, \"policystarttime\": 1675.1796612706603, \"pvar0\": 1}', checksum=-297972430, serialized_key_size=-1, serialized_value_size=113)\n",
      "ConsumerRecord(topic='pertest', partition=1, offset=10, timestamp=1507845869439, timestamp_type=0, key=None, value=b'{\"pvar1\": 4, \"policyendtime\": 2619.3868565191538, \"policy\": 1, \"policystarttime\": 39.91089678039432, \"pvar0\": 2}', checksum=1759773337, serialized_key_size=-1, serialized_value_size=112)\n",
      "ConsumerRecord(topic='pertest', partition=1, offset=11, timestamp=1507845869440, timestamp_type=0, key=None, value=b'{\"pvar1\": 6, \"policyendtime\": 2194.7478516074334, \"policy\": 2, \"policystarttime\": 997.689727934423, \"pvar0\": 2}', checksum=-456192973, serialized_key_size=-1, serialized_value_size=111)\n",
      "ConsumerRecord(topic='pertest', partition=1, offset=12, timestamp=1507845869440, timestamp_type=0, key=None, value=b'{\"pvar1\": 5, \"policyendtime\": 3451.8494394130485, \"policy\": 5, \"policystarttime\": 1851.924735134434, \"pvar0\": 0}', checksum=1721444496, serialized_key_size=-1, serialized_value_size=112)\n",
      "ConsumerRecord(topic='pertest', partition=1, offset=13, timestamp=1507845869440, timestamp_type=0, key=None, value=b'{\"pvar1\": 1, \"policyendtime\": 8375.467304334663, \"policy\": 6, \"policystarttime\": 6397.266707830977, \"pvar0\": 0}', checksum=1053915590, serialized_key_size=-1, serialized_value_size=111)\n",
      "ConsumerRecord(topic='pertest', partition=1, offset=14, timestamp=1507845869441, timestamp_type=0, key=None, value=b'{\"pvar1\": 0, \"policyendtime\": 1459.6275051497728, \"policy\": 9, \"policystarttime\": 809.072649649112, \"pvar0\": 0}', checksum=-1451537068, serialized_key_size=-1, serialized_value_size=111)\n"
     ]
    },
    {
     "ename": "KeyboardInterrupt",
     "evalue": "",
     "output_type": "error",
     "traceback": [
      "\u001b[0;31m---------------------------------------------------------------------------\u001b[0m",
      "\u001b[0;31mKeyboardInterrupt\u001b[0m                         Traceback (most recent call last)",
      "\u001b[0;32m<ipython-input-35-1d0956c36bf9>\u001b[0m in \u001b[0;36m<module>\u001b[0;34m()\u001b[0m\n\u001b[1;32m      2\u001b[0m \u001b[0mconsumer\u001b[0m \u001b[0;34m=\u001b[0m \u001b[0mKafkaConsumer\u001b[0m\u001b[0;34m(\u001b[0m\u001b[0;34m'pertest'\u001b[0m\u001b[0;34m,\u001b[0m\u001b[0mbootstrap_servers\u001b[0m\u001b[0;34m=\u001b[0m\u001b[0;34m[\u001b[0m\u001b[0;34m'10.101.12.4:9092'\u001b[0m\u001b[0;34m]\u001b[0m\u001b[0;34m,\u001b[0m\u001b[0mauto_offset_reset\u001b[0m\u001b[0;34m=\u001b[0m\u001b[0;34m'earliest'\u001b[0m\u001b[0;34m)\u001b[0m\u001b[0;34m\u001b[0m\u001b[0m\n\u001b[1;32m      3\u001b[0m \u001b[0mconsumer\u001b[0m\u001b[0;34m.\u001b[0m\u001b[0msubscribe\u001b[0m\u001b[0;34m(\u001b[0m\u001b[0;34m[\u001b[0m\u001b[0;34m'pertest'\u001b[0m\u001b[0;34m]\u001b[0m\u001b[0;34m)\u001b[0m\u001b[0;34m\u001b[0m\u001b[0m\n\u001b[0;32m----> 4\u001b[0;31m \u001b[0;32mfor\u001b[0m \u001b[0mmessage\u001b[0m \u001b[0;32min\u001b[0m \u001b[0mconsumer\u001b[0m\u001b[0;34m:\u001b[0m\u001b[0;34m\u001b[0m\u001b[0m\n\u001b[0m\u001b[1;32m      5\u001b[0m     \u001b[0mprint\u001b[0m \u001b[0;34m(\u001b[0m\u001b[0mmessage\u001b[0m\u001b[0;34m)\u001b[0m\u001b[0;34m\u001b[0m\u001b[0m\n\u001b[1;32m      6\u001b[0m \u001b[0;34m\u001b[0m\u001b[0m\n",
      "\u001b[0;32m/anaconda/envs/py35/lib/python3.5/site-packages/kafka/consumer/group.py\u001b[0m in \u001b[0;36m__next__\u001b[0;34m(self)\u001b[0m\n\u001b[1;32m   1073\u001b[0m         \u001b[0mself\u001b[0m\u001b[0;34m.\u001b[0m\u001b[0m_set_consumer_timeout\u001b[0m\u001b[0;34m(\u001b[0m\u001b[0;34m)\u001b[0m\u001b[0;34m\u001b[0m\u001b[0m\n\u001b[1;32m   1074\u001b[0m         \u001b[0;32mtry\u001b[0m\u001b[0;34m:\u001b[0m\u001b[0;34m\u001b[0m\u001b[0m\n\u001b[0;32m-> 1075\u001b[0;31m             \u001b[0;32mreturn\u001b[0m \u001b[0mnext\u001b[0m\u001b[0;34m(\u001b[0m\u001b[0mself\u001b[0m\u001b[0;34m.\u001b[0m\u001b[0m_iterator\u001b[0m\u001b[0;34m)\u001b[0m\u001b[0;34m\u001b[0m\u001b[0m\n\u001b[0m\u001b[1;32m   1076\u001b[0m         \u001b[0;32mexcept\u001b[0m \u001b[0mStopIteration\u001b[0m\u001b[0;34m:\u001b[0m\u001b[0;34m\u001b[0m\u001b[0m\n\u001b[1;32m   1077\u001b[0m             \u001b[0mself\u001b[0m\u001b[0;34m.\u001b[0m\u001b[0m_iterator\u001b[0m \u001b[0;34m=\u001b[0m \u001b[0;32mNone\u001b[0m\u001b[0;34m\u001b[0m\u001b[0m\n",
      "\u001b[0;32m/anaconda/envs/py35/lib/python3.5/site-packages/kafka/consumer/group.py\u001b[0m in \u001b[0;36m_message_generator\u001b[0;34m(self)\u001b[0m\n\u001b[1;32m   1011\u001b[0m             \u001b[0;32mif\u001b[0m \u001b[0;32mnot\u001b[0m \u001b[0mself\u001b[0m\u001b[0;34m.\u001b[0m\u001b[0m_fetcher\u001b[0m\u001b[0;34m.\u001b[0m\u001b[0min_flight_fetches\u001b[0m\u001b[0;34m(\u001b[0m\u001b[0;34m)\u001b[0m\u001b[0;34m:\u001b[0m\u001b[0;34m\u001b[0m\u001b[0m\n\u001b[1;32m   1012\u001b[0m                 \u001b[0mpoll_ms\u001b[0m \u001b[0;34m=\u001b[0m \u001b[0;36m0\u001b[0m\u001b[0;34m\u001b[0m\u001b[0m\n\u001b[0;32m-> 1013\u001b[0;31m             \u001b[0mself\u001b[0m\u001b[0;34m.\u001b[0m\u001b[0m_client\u001b[0m\u001b[0;34m.\u001b[0m\u001b[0mpoll\u001b[0m\u001b[0;34m(\u001b[0m\u001b[0mtimeout_ms\u001b[0m\u001b[0;34m=\u001b[0m\u001b[0mpoll_ms\u001b[0m\u001b[0;34m)\u001b[0m\u001b[0;34m\u001b[0m\u001b[0m\n\u001b[0m\u001b[1;32m   1014\u001b[0m \u001b[0;34m\u001b[0m\u001b[0m\n\u001b[1;32m   1015\u001b[0m             \u001b[0;31m# We need to make sure we at least keep up with scheduled tasks,\u001b[0m\u001b[0;34m\u001b[0m\u001b[0;34m\u001b[0m\u001b[0m\n",
      "\u001b[0;32m/anaconda/envs/py35/lib/python3.5/site-packages/kafka/client_async.py\u001b[0m in \u001b[0;36mpoll\u001b[0;34m(self, timeout_ms, future, delayed_tasks)\u001b[0m\n\u001b[1;32m    552\u001b[0m                 \u001b[0mtimeout\u001b[0m \u001b[0;34m=\u001b[0m \u001b[0mmax\u001b[0m\u001b[0;34m(\u001b[0m\u001b[0;36m0\u001b[0m\u001b[0;34m,\u001b[0m \u001b[0mtimeout\u001b[0m \u001b[0;34m/\u001b[0m \u001b[0;36m1000.0\u001b[0m\u001b[0;34m)\u001b[0m  \u001b[0;31m# avoid negative timeouts\u001b[0m\u001b[0;34m\u001b[0m\u001b[0m\n\u001b[1;32m    553\u001b[0m \u001b[0;34m\u001b[0m\u001b[0m\n\u001b[0;32m--> 554\u001b[0;31m             \u001b[0mresponses\u001b[0m\u001b[0;34m.\u001b[0m\u001b[0mextend\u001b[0m\u001b[0;34m(\u001b[0m\u001b[0mself\u001b[0m\u001b[0;34m.\u001b[0m\u001b[0m_poll\u001b[0m\u001b[0;34m(\u001b[0m\u001b[0mtimeout\u001b[0m\u001b[0;34m)\u001b[0m\u001b[0;34m)\u001b[0m\u001b[0;34m\u001b[0m\u001b[0m\n\u001b[0m\u001b[1;32m    555\u001b[0m \u001b[0;34m\u001b[0m\u001b[0m\n\u001b[1;32m    556\u001b[0m             \u001b[0;31m# If all we had was a timeout (future is None) - only do one poll\u001b[0m\u001b[0;34m\u001b[0m\u001b[0;34m\u001b[0m\u001b[0m\n",
      "\u001b[0;32m/anaconda/envs/py35/lib/python3.5/site-packages/kafka/client_async.py\u001b[0m in \u001b[0;36m_poll\u001b[0;34m(self, timeout)\u001b[0m\n\u001b[1;32m    566\u001b[0m \u001b[0;34m\u001b[0m\u001b[0m\n\u001b[1;32m    567\u001b[0m         \u001b[0mstart_select\u001b[0m \u001b[0;34m=\u001b[0m \u001b[0mtime\u001b[0m\u001b[0;34m.\u001b[0m\u001b[0mtime\u001b[0m\u001b[0;34m(\u001b[0m\u001b[0;34m)\u001b[0m\u001b[0;34m\u001b[0m\u001b[0m\n\u001b[0;32m--> 568\u001b[0;31m         \u001b[0mready\u001b[0m \u001b[0;34m=\u001b[0m \u001b[0mself\u001b[0m\u001b[0;34m.\u001b[0m\u001b[0m_selector\u001b[0m\u001b[0;34m.\u001b[0m\u001b[0mselect\u001b[0m\u001b[0;34m(\u001b[0m\u001b[0mtimeout\u001b[0m\u001b[0;34m)\u001b[0m\u001b[0;34m\u001b[0m\u001b[0m\n\u001b[0m\u001b[1;32m    569\u001b[0m         \u001b[0mend_select\u001b[0m \u001b[0;34m=\u001b[0m \u001b[0mtime\u001b[0m\u001b[0;34m.\u001b[0m\u001b[0mtime\u001b[0m\u001b[0;34m(\u001b[0m\u001b[0;34m)\u001b[0m\u001b[0;34m\u001b[0m\u001b[0m\n\u001b[1;32m    570\u001b[0m         \u001b[0;32mif\u001b[0m \u001b[0mself\u001b[0m\u001b[0;34m.\u001b[0m\u001b[0m_sensors\u001b[0m\u001b[0;34m:\u001b[0m\u001b[0;34m\u001b[0m\u001b[0m\n",
      "\u001b[0;32m/anaconda/envs/py35/lib/python3.5/selectors.py\u001b[0m in \u001b[0;36mselect\u001b[0;34m(self, timeout)\u001b[0m\n\u001b[1;32m    439\u001b[0m             \u001b[0mready\u001b[0m \u001b[0;34m=\u001b[0m \u001b[0;34m[\u001b[0m\u001b[0;34m]\u001b[0m\u001b[0;34m\u001b[0m\u001b[0m\n\u001b[1;32m    440\u001b[0m             \u001b[0;32mtry\u001b[0m\u001b[0;34m:\u001b[0m\u001b[0;34m\u001b[0m\u001b[0m\n\u001b[0;32m--> 441\u001b[0;31m                 \u001b[0mfd_event_list\u001b[0m \u001b[0;34m=\u001b[0m \u001b[0mself\u001b[0m\u001b[0;34m.\u001b[0m\u001b[0m_epoll\u001b[0m\u001b[0;34m.\u001b[0m\u001b[0mpoll\u001b[0m\u001b[0;34m(\u001b[0m\u001b[0mtimeout\u001b[0m\u001b[0;34m,\u001b[0m \u001b[0mmax_ev\u001b[0m\u001b[0;34m)\u001b[0m\u001b[0;34m\u001b[0m\u001b[0m\n\u001b[0m\u001b[1;32m    442\u001b[0m             \u001b[0;32mexcept\u001b[0m \u001b[0mInterruptedError\u001b[0m\u001b[0;34m:\u001b[0m\u001b[0;34m\u001b[0m\u001b[0m\n\u001b[1;32m    443\u001b[0m                 \u001b[0;32mreturn\u001b[0m \u001b[0mready\u001b[0m\u001b[0;34m\u001b[0m\u001b[0m\n",
      "\u001b[0;31mKeyboardInterrupt\u001b[0m: "
     ]
    }
   ],
   "source": [
    "from kafka import KafkaConsumer\n",
    "consumer = KafkaConsumer('pertest',bootstrap_servers=['10.101.12.4:9092'],auto_offset_reset='earliest')\n",
    "consumer.subscribe(['pertest'])\n",
    "for message in consumer:\n",
    "    print (message)\n",
    "\n"
   ]
  }
 ],
 "metadata": {
  "kernelspec": {
   "display_name": "Python [default]",
   "language": "python",
   "name": "python3"
  },
  "language_info": {
   "codemirror_mode": {
    "name": "ipython",
    "version": 3
   },
   "file_extension": ".py",
   "mimetype": "text/x-python",
   "name": "python",
   "nbconvert_exporter": "python",
   "pygments_lexer": "ipython3",
   "version": "3.5.2"
  }
 },
 "nbformat": 4,
 "nbformat_minor": 2
}
